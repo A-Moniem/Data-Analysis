{
 "cells": [
  {
   "cell_type": "markdown",
   "id": "dd43aa52",
   "metadata": {},
   "source": [
    "# Import different libraries"
   ]
  },
  {
   "cell_type": "code",
   "execution_count": 1,
   "id": "4db89464",
   "metadata": {},
   "outputs": [],
   "source": [
    "import pandas as pd\n",
    "import requests\n",
    "import json\n",
    "import plotly.graph_objects as go"
   ]
  },
  {
   "cell_type": "markdown",
   "id": "66734624",
   "metadata": {},
   "source": [
    "# Request Google financial statement \"P&L\" from \"Financial Modeling Prep\"\n",
    "\n",
    "# Get the income statement for any company by change the company name in the {quote}"
   ]
  },
  {
   "cell_type": "code",
   "execution_count": 13,
   "id": "e15cf273",
   "metadata": {
    "scrolled": false
   },
   "outputs": [
    {
     "data": {
      "text/html": [
       "<div>\n",
       "<style scoped>\n",
       "    .dataframe tbody tr th:only-of-type {\n",
       "        vertical-align: middle;\n",
       "    }\n",
       "\n",
       "    .dataframe tbody tr th {\n",
       "        vertical-align: top;\n",
       "    }\n",
       "\n",
       "    .dataframe thead th {\n",
       "        text-align: right;\n",
       "    }\n",
       "</style>\n",
       "<table border=\"1\" class=\"dataframe\">\n",
       "  <thead>\n",
       "    <tr style=\"text-align: right;\">\n",
       "      <th>date</th>\n",
       "      <th>index</th>\n",
       "      <th>2022-12-31</th>\n",
       "      <th>2021-12-31</th>\n",
       "      <th>2020-12-31</th>\n",
       "      <th>2019-12-31</th>\n",
       "    </tr>\n",
       "  </thead>\n",
       "  <tbody>\n",
       "    <tr>\n",
       "      <th>8</th>\n",
       "      <td>revenue</td>\n",
       "      <td>282836000000</td>\n",
       "      <td>257637000000</td>\n",
       "      <td>182527000000</td>\n",
       "      <td>161857000000</td>\n",
       "    </tr>\n",
       "    <tr>\n",
       "      <th>9</th>\n",
       "      <td>costOfRevenue</td>\n",
       "      <td>126203000000</td>\n",
       "      <td>110939000000</td>\n",
       "      <td>84732000000</td>\n",
       "      <td>71896000000</td>\n",
       "    </tr>\n",
       "    <tr>\n",
       "      <th>10</th>\n",
       "      <td>grossProfit</td>\n",
       "      <td>156633000000</td>\n",
       "      <td>146698000000</td>\n",
       "      <td>97795000000</td>\n",
       "      <td>89961000000</td>\n",
       "    </tr>\n",
       "    <tr>\n",
       "      <th>11</th>\n",
       "      <td>grossProfitRatio</td>\n",
       "      <td>0.553794</td>\n",
       "      <td>0.569398</td>\n",
       "      <td>0.535784</td>\n",
       "      <td>0.555805</td>\n",
       "    </tr>\n",
       "    <tr>\n",
       "      <th>12</th>\n",
       "      <td>researchAndDevelopmentExpenses</td>\n",
       "      <td>39500000000</td>\n",
       "      <td>31562000000</td>\n",
       "      <td>27573000000</td>\n",
       "      <td>26018000000</td>\n",
       "    </tr>\n",
       "  </tbody>\n",
       "</table>\n",
       "</div>"
      ],
      "text/plain": [
       "date                           index    2022-12-31    2021-12-31  \\\n",
       "8                            revenue  282836000000  257637000000   \n",
       "9                      costOfRevenue  126203000000  110939000000   \n",
       "10                       grossProfit  156633000000  146698000000   \n",
       "11                  grossProfitRatio      0.553794      0.569398   \n",
       "12    researchAndDevelopmentExpenses   39500000000   31562000000   \n",
       "\n",
       "date    2020-12-31    2019-12-31  \n",
       "8     182527000000  161857000000  \n",
       "9      84732000000   71896000000  \n",
       "10     97795000000   89961000000  \n",
       "11        0.535784      0.555805  \n",
       "12     27573000000   26018000000  "
      ]
     },
     "execution_count": 13,
     "metadata": {},
     "output_type": "execute_result"
    }
   ],
   "source": [
    " def selectquote(quote):\n",
    "        PL = requests.get(f\"https://financialmodelingprep.com/api/v3/income-statement/{quote}?limit=120&apikey=b5b0d168348e66678fcbabfeb75a9dc5\")\n",
    "\n",
    "        # Change the data to Dict\n",
    "        PL = PL.json()\n",
    "\n",
    "        # Create the data as dataframe\n",
    "        df = pd.DataFrame.from_dict(PL)\n",
    "        df = df.T\n",
    "        df.columns = df.iloc[0]\n",
    "        df.reset_index(inplace=True)\n",
    "        df = df.iloc[8:36, 0:5]\n",
    "        return df\n",
    "df = selectquote('GOOG')\n",
    "df.head()"
   ]
  },
  {
   "cell_type": "markdown",
   "id": "610d2b22",
   "metadata": {},
   "source": [
    "# Change the data from Object to numbers"
   ]
  },
  {
   "cell_type": "code",
   "execution_count": 14,
   "id": "6cb8a61b",
   "metadata": {},
   "outputs": [
    {
     "name": "stdout",
     "output_type": "stream",
     "text": [
      "<class 'pandas.core.frame.DataFrame'>\n",
      "RangeIndex: 28 entries, 8 to 35\n",
      "Data columns (total 5 columns):\n",
      " #   Column      Non-Null Count  Dtype  \n",
      "---  ------      --------------  -----  \n",
      " 0   index       28 non-null     object \n",
      " 1   2022-12-31  28 non-null     float64\n",
      " 2   2021-12-31  28 non-null     float64\n",
      " 3   2020-12-31  28 non-null     float64\n",
      " 4   2019-12-31  28 non-null     float64\n",
      "dtypes: float64(4), object(1)\n",
      "memory usage: 1.2+ KB\n"
     ]
    }
   ],
   "source": [
    "cols = df.columns.drop('index')\n",
    "df[cols] = df[cols].apply(pd.to_numeric, errors='coerce')\n",
    "df.info()"
   ]
  },
  {
   "cell_type": "code",
   "execution_count": 15,
   "id": "8e9f9b44",
   "metadata": {},
   "outputs": [
    {
     "data": {
      "text/html": [
       "<div>\n",
       "<style scoped>\n",
       "    .dataframe tbody tr th:only-of-type {\n",
       "        vertical-align: middle;\n",
       "    }\n",
       "\n",
       "    .dataframe tbody tr th {\n",
       "        vertical-align: top;\n",
       "    }\n",
       "\n",
       "    .dataframe thead th {\n",
       "        text-align: right;\n",
       "    }\n",
       "</style>\n",
       "<table border=\"1\" class=\"dataframe\">\n",
       "  <thead>\n",
       "    <tr style=\"text-align: right;\">\n",
       "      <th>date</th>\n",
       "      <th>index</th>\n",
       "      <th>2022-12-31</th>\n",
       "      <th>2021-12-31</th>\n",
       "      <th>2020-12-31</th>\n",
       "      <th>2019-12-31</th>\n",
       "    </tr>\n",
       "  </thead>\n",
       "  <tbody>\n",
       "    <tr>\n",
       "      <th>8</th>\n",
       "      <td>revenue</td>\n",
       "      <td>2.828360e+11</td>\n",
       "      <td>2.576370e+11</td>\n",
       "      <td>1.825270e+11</td>\n",
       "      <td>1.618570e+11</td>\n",
       "    </tr>\n",
       "    <tr>\n",
       "      <th>9</th>\n",
       "      <td>costOfRevenue</td>\n",
       "      <td>1.262030e+11</td>\n",
       "      <td>1.109390e+11</td>\n",
       "      <td>8.473200e+10</td>\n",
       "      <td>7.189600e+10</td>\n",
       "    </tr>\n",
       "    <tr>\n",
       "      <th>10</th>\n",
       "      <td>grossProfit</td>\n",
       "      <td>1.566330e+11</td>\n",
       "      <td>1.466980e+11</td>\n",
       "      <td>9.779500e+10</td>\n",
       "      <td>8.996100e+10</td>\n",
       "    </tr>\n",
       "    <tr>\n",
       "      <th>11</th>\n",
       "      <td>grossProfitRatio</td>\n",
       "      <td>5.537944e-01</td>\n",
       "      <td>5.693980e-01</td>\n",
       "      <td>5.357837e-01</td>\n",
       "      <td>5.558054e-01</td>\n",
       "    </tr>\n",
       "    <tr>\n",
       "      <th>12</th>\n",
       "      <td>researchAndDevelopmentExpenses</td>\n",
       "      <td>3.950000e+10</td>\n",
       "      <td>3.156200e+10</td>\n",
       "      <td>2.757300e+10</td>\n",
       "      <td>2.601800e+10</td>\n",
       "    </tr>\n",
       "  </tbody>\n",
       "</table>\n",
       "</div>"
      ],
      "text/plain": [
       "date                           index    2022-12-31    2021-12-31  \\\n",
       "8                            revenue  2.828360e+11  2.576370e+11   \n",
       "9                      costOfRevenue  1.262030e+11  1.109390e+11   \n",
       "10                       grossProfit  1.566330e+11  1.466980e+11   \n",
       "11                  grossProfitRatio  5.537944e-01  5.693980e-01   \n",
       "12    researchAndDevelopmentExpenses  3.950000e+10  3.156200e+10   \n",
       "\n",
       "date    2020-12-31    2019-12-31  \n",
       "8     1.825270e+11  1.618570e+11  \n",
       "9     8.473200e+10  7.189600e+10  \n",
       "10    9.779500e+10  8.996100e+10  \n",
       "11    5.357837e-01  5.558054e-01  \n",
       "12    2.757300e+10  2.601800e+10  "
      ]
     },
     "execution_count": 15,
     "metadata": {},
     "output_type": "execute_result"
    }
   ],
   "source": [
    "df.head()"
   ]
  },
  {
   "cell_type": "markdown",
   "id": "7be8a9cc",
   "metadata": {},
   "source": [
    "# Change the column names to years"
   ]
  },
  {
   "cell_type": "code",
   "execution_count": 16,
   "id": "62c71188",
   "metadata": {},
   "outputs": [
    {
     "data": {
      "text/html": [
       "<div>\n",
       "<style scoped>\n",
       "    .dataframe tbody tr th:only-of-type {\n",
       "        vertical-align: middle;\n",
       "    }\n",
       "\n",
       "    .dataframe tbody tr th {\n",
       "        vertical-align: top;\n",
       "    }\n",
       "\n",
       "    .dataframe thead th {\n",
       "        text-align: right;\n",
       "    }\n",
       "</style>\n",
       "<table border=\"1\" class=\"dataframe\">\n",
       "  <thead>\n",
       "    <tr style=\"text-align: right;\">\n",
       "      <th>date</th>\n",
       "      <th>Description</th>\n",
       "      <th>2022</th>\n",
       "      <th>2021</th>\n",
       "      <th>2020</th>\n",
       "      <th>2019</th>\n",
       "    </tr>\n",
       "  </thead>\n",
       "  <tbody>\n",
       "    <tr>\n",
       "      <th>8</th>\n",
       "      <td>revenue</td>\n",
       "      <td>2.828360e+11</td>\n",
       "      <td>2.576370e+11</td>\n",
       "      <td>1.825270e+11</td>\n",
       "      <td>1.618570e+11</td>\n",
       "    </tr>\n",
       "    <tr>\n",
       "      <th>9</th>\n",
       "      <td>costOfRevenue</td>\n",
       "      <td>1.262030e+11</td>\n",
       "      <td>1.109390e+11</td>\n",
       "      <td>8.473200e+10</td>\n",
       "      <td>7.189600e+10</td>\n",
       "    </tr>\n",
       "    <tr>\n",
       "      <th>10</th>\n",
       "      <td>grossProfit</td>\n",
       "      <td>1.566330e+11</td>\n",
       "      <td>1.466980e+11</td>\n",
       "      <td>9.779500e+10</td>\n",
       "      <td>8.996100e+10</td>\n",
       "    </tr>\n",
       "    <tr>\n",
       "      <th>11</th>\n",
       "      <td>grossProfitRatio</td>\n",
       "      <td>5.537944e-01</td>\n",
       "      <td>5.693980e-01</td>\n",
       "      <td>5.357837e-01</td>\n",
       "      <td>5.558054e-01</td>\n",
       "    </tr>\n",
       "    <tr>\n",
       "      <th>12</th>\n",
       "      <td>researchAndDevelopmentExpenses</td>\n",
       "      <td>3.950000e+10</td>\n",
       "      <td>3.156200e+10</td>\n",
       "      <td>2.757300e+10</td>\n",
       "      <td>2.601800e+10</td>\n",
       "    </tr>\n",
       "  </tbody>\n",
       "</table>\n",
       "</div>"
      ],
      "text/plain": [
       "date                     Description          2022          2021  \\\n",
       "8                            revenue  2.828360e+11  2.576370e+11   \n",
       "9                      costOfRevenue  1.262030e+11  1.109390e+11   \n",
       "10                       grossProfit  1.566330e+11  1.466980e+11   \n",
       "11                  grossProfitRatio  5.537944e-01  5.693980e-01   \n",
       "12    researchAndDevelopmentExpenses  3.950000e+10  3.156200e+10   \n",
       "\n",
       "date          2020          2019  \n",
       "8     1.825270e+11  1.618570e+11  \n",
       "9     8.473200e+10  7.189600e+10  \n",
       "10    9.779500e+10  8.996100e+10  \n",
       "11    5.357837e-01  5.558054e-01  \n",
       "12    2.757300e+10  2.601800e+10  "
      ]
     },
     "execution_count": 16,
     "metadata": {},
     "output_type": "execute_result"
    }
   ],
   "source": [
    "df.rename(columns={\"index\": \"Description\", df.columns[1]: \"2022\",df.columns[2]: \"2021\", df.columns[3]: \"2020\",\n",
    "df.columns[4]: \"2019\"}, inplace=True)\n",
    "df.head()"
   ]
  },
  {
   "cell_type": "markdown",
   "id": "ad6d770c",
   "metadata": {},
   "source": [
    "# Create P&L ratios for all the statement elements"
   ]
  },
  {
   "cell_type": "code",
   "execution_count": 17,
   "id": "2aadb9bd",
   "metadata": {
    "scrolled": true
   },
   "outputs": [
    {
     "data": {
      "text/html": [
       "<div>\n",
       "<style scoped>\n",
       "    .dataframe tbody tr th:only-of-type {\n",
       "        vertical-align: middle;\n",
       "    }\n",
       "\n",
       "    .dataframe tbody tr th {\n",
       "        vertical-align: top;\n",
       "    }\n",
       "\n",
       "    .dataframe thead th {\n",
       "        text-align: right;\n",
       "    }\n",
       "</style>\n",
       "<table border=\"1\" class=\"dataframe\">\n",
       "  <thead>\n",
       "    <tr style=\"text-align: right;\">\n",
       "      <th>date</th>\n",
       "      <th>Description</th>\n",
       "      <th>2022</th>\n",
       "      <th>2021</th>\n",
       "      <th>2020</th>\n",
       "      <th>2019</th>\n",
       "      <th>2022_Ratios</th>\n",
       "      <th>2021_Ratios</th>\n",
       "      <th>2020_Ratios</th>\n",
       "      <th>2019_Ratios</th>\n",
       "    </tr>\n",
       "  </thead>\n",
       "  <tbody>\n",
       "    <tr>\n",
       "      <th>8</th>\n",
       "      <td>revenue</td>\n",
       "      <td>2.828360e+11</td>\n",
       "      <td>2.576370e+11</td>\n",
       "      <td>1.825270e+11</td>\n",
       "      <td>1.618570e+11</td>\n",
       "      <td>100.00%</td>\n",
       "      <td>100.00%</td>\n",
       "      <td>100.00%</td>\n",
       "      <td>100.00%</td>\n",
       "    </tr>\n",
       "    <tr>\n",
       "      <th>9</th>\n",
       "      <td>costOfRevenue</td>\n",
       "      <td>1.262030e+11</td>\n",
       "      <td>1.109390e+11</td>\n",
       "      <td>8.473200e+10</td>\n",
       "      <td>7.189600e+10</td>\n",
       "      <td>44.62%</td>\n",
       "      <td>43.06%</td>\n",
       "      <td>46.42%</td>\n",
       "      <td>44.42%</td>\n",
       "    </tr>\n",
       "    <tr>\n",
       "      <th>10</th>\n",
       "      <td>grossProfit</td>\n",
       "      <td>1.566330e+11</td>\n",
       "      <td>1.466980e+11</td>\n",
       "      <td>9.779500e+10</td>\n",
       "      <td>8.996100e+10</td>\n",
       "      <td>55.38%</td>\n",
       "      <td>56.94%</td>\n",
       "      <td>53.58%</td>\n",
       "      <td>55.58%</td>\n",
       "    </tr>\n",
       "    <tr>\n",
       "      <th>11</th>\n",
       "      <td>grossProfitRatio</td>\n",
       "      <td>5.537944e-01</td>\n",
       "      <td>5.693980e-01</td>\n",
       "      <td>5.357837e-01</td>\n",
       "      <td>5.558054e-01</td>\n",
       "      <td>0.00%</td>\n",
       "      <td>0.00%</td>\n",
       "      <td>0.00%</td>\n",
       "      <td>0.00%</td>\n",
       "    </tr>\n",
       "    <tr>\n",
       "      <th>12</th>\n",
       "      <td>researchAndDevelopmentExpenses</td>\n",
       "      <td>3.950000e+10</td>\n",
       "      <td>3.156200e+10</td>\n",
       "      <td>2.757300e+10</td>\n",
       "      <td>2.601800e+10</td>\n",
       "      <td>13.97%</td>\n",
       "      <td>12.25%</td>\n",
       "      <td>15.11%</td>\n",
       "      <td>16.07%</td>\n",
       "    </tr>\n",
       "  </tbody>\n",
       "</table>\n",
       "</div>"
      ],
      "text/plain": [
       "date                     Description          2022          2021  \\\n",
       "8                            revenue  2.828360e+11  2.576370e+11   \n",
       "9                      costOfRevenue  1.262030e+11  1.109390e+11   \n",
       "10                       grossProfit  1.566330e+11  1.466980e+11   \n",
       "11                  grossProfitRatio  5.537944e-01  5.693980e-01   \n",
       "12    researchAndDevelopmentExpenses  3.950000e+10  3.156200e+10   \n",
       "\n",
       "date          2020          2019 2022_Ratios 2021_Ratios 2020_Ratios  \\\n",
       "8     1.825270e+11  1.618570e+11     100.00%     100.00%     100.00%   \n",
       "9     8.473200e+10  7.189600e+10      44.62%      43.06%      46.42%   \n",
       "10    9.779500e+10  8.996100e+10      55.38%      56.94%      53.58%   \n",
       "11    5.357837e-01  5.558054e-01       0.00%       0.00%       0.00%   \n",
       "12    2.757300e+10  2.601800e+10      13.97%      12.25%      15.11%   \n",
       "\n",
       "date 2019_Ratios  \n",
       "8        100.00%  \n",
       "9         44.42%  \n",
       "10        55.58%  \n",
       "11         0.00%  \n",
       "12        16.07%  "
      ]
     },
     "execution_count": 17,
     "metadata": {},
     "output_type": "execute_result"
    }
   ],
   "source": [
    "df['2022_Ratios'] = df['2022'] / df.iloc[0,1]\n",
    "df['2022_Ratios'] = pd.Series(['{:.2f}%'.format(val*100) for val in df['2022_Ratios']], index=df.index)\n",
    "df['2021_Ratios'] = df['2021'] / df.iloc[0,2]\n",
    "df['2021_Ratios'] = pd.Series(['{:.2f}%'.format(val*100) for val in df['2021_Ratios']], index=df.index)\n",
    "df['2020_Ratios'] = df['2020'] / df.iloc[0,3]\n",
    "df['2020_Ratios'] = pd.Series(['{:.2f}%'.format(val*100) for val in df['2020_Ratios']], index=df.index)\n",
    "df['2019_Ratios'] = df['2019'] / df.iloc[0,4]\n",
    "df['2019_Ratios'] = pd.Series(['{:.2f}%'.format(val*100) for val in df['2019_Ratios']], index=df.index)\n",
    "df.head()"
   ]
  },
  {
   "cell_type": "markdown",
   "id": "16575ec0",
   "metadata": {},
   "source": [
    "# Creat variables for the statement elements"
   ]
  },
  {
   "cell_type": "code",
   "execution_count": 18,
   "id": "71e6dab2",
   "metadata": {},
   "outputs": [],
   "source": [
    "# 2022 Variables\n",
    "Rev22 = df[df['Description'] == 'revenue'].iloc[0][5]\n",
    "COGS22 = df[df['Description'] == 'costOfRevenue'].iloc[0][5]\n",
    "GrossProfit22 = df[df['Description'] == 'grossProfit'].iloc[0][5]\n",
    "OperatingExp22 = df[df['Description'] == 'operatingExpenses'].iloc[0][5]\n",
    "OperatingIncome22 = df[df['Description'] == 'operatingIncome'].iloc[0][5]\n",
    "PretaxIncome22 = df[df['Description'] == 'incomeBeforeTax'].iloc[0][5]\n",
    "NetIncome22 = df[df['Description'] == 'netIncome'].iloc[0][5]\n",
    "\n",
    "# 2021 Variables\n",
    "\n",
    "Rev21 = df[df['Description'] == 'revenue'].iloc[0][6]\n",
    "COGS21 = df[df['Description'] == 'costOfRevenue'].iloc[0][6]\n",
    "GrossProfit21 = df[df['Description'] == 'grossProfit'].iloc[0][6]\n",
    "OperatingExp21 = df[df['Description'] == 'operatingExpenses'].iloc[0][6]\n",
    "OperatingIncome21 = df[df['Description'] == 'operatingIncome'].iloc[0][6]\n",
    "PretaxIncome21 = df[df['Description'] == 'incomeBeforeTax'].iloc[0][6]\n",
    "NetIncome21 = df[df['Description'] == 'netIncome'].iloc[0][6]\n",
    "\n",
    "# 2020 Variables\n",
    "\n",
    "Rev20 = df[df['Description'] == 'revenue'].iloc[0][7]\n",
    "COGS20 = df[df['Description'] == 'costOfRevenue'].iloc[0][7]\n",
    "GrossProfit20 = df[df['Description'] == 'grossProfit'].iloc[0][7]\n",
    "OperatingExp20 = df[df['Description'] == 'operatingExpenses'].iloc[0][7]\n",
    "OperatingIncome20 = df[df['Description'] == 'operatingIncome'].iloc[0][7]\n",
    "PretaxIncome20 = df[df['Description'] == 'incomeBeforeTax'].iloc[0][7]\n",
    "NetIncome20 = df[df['Description'] == 'netIncome'].iloc[0][7]\n",
    "\n",
    "# 2019 Variables\n",
    "\n",
    "Rev19 = df[df['Description'] == 'revenue'].iloc[0][8]\n",
    "COGS19 = df[df['Description'] == 'costOfRevenue'].iloc[0][8]\n",
    "GrossProfit19 = df[df['Description'] == 'grossProfit'].iloc[0][8]\n",
    "OperatingExp19 = df[df['Description'] == 'operatingExpenses'].iloc[0][8]\n",
    "OperatingIncome19 = df[df['Description'] == 'operatingIncome'].iloc[0][8]\n",
    "PretaxIncome19 = df[df['Description'] == 'incomeBeforeTax'].iloc[0][8]\n",
    "NetIncome19 = df[df['Description'] == 'netIncome'].iloc[0][8]"
   ]
  },
  {
   "cell_type": "markdown",
   "id": "36d9bd96",
   "metadata": {},
   "source": [
    "# Create waterfall to compare the P&L ratios for the 4 years for the main P&L elements"
   ]
  },
  {
   "cell_type": "code",
   "execution_count": 19,
   "id": "5d49f37f",
   "metadata": {},
   "outputs": [
    {
     "data": {
      "application/vnd.plotly.v1+json": {
       "config": {
        "plotlyServerURL": "https://plot.ly"
       },
       "data": [
        {
         "base": 1000,
         "measure": [
          "absolute",
          "absolute",
          "absolute",
          "absolute",
          "absolute",
          "absolute",
          "absolute"
         ],
         "text": [
          "100.00%",
          "44.62%",
          "55.38%",
          "28.92%",
          "26.46%",
          "25.22%",
          "21.20%"
         ],
         "textposition": "outside",
         "type": "waterfall",
         "x": [
          [
           "2022",
           "2022",
           "2022",
           "2022",
           "2022",
           "2022",
           "2022",
           "2022"
          ],
          [
           "Revenue",
           "COGS",
           "GrossProfit",
           "OperatingExp",
           "OperatingIncome",
           "PretaxIncome",
           "NetIncome"
          ]
         ],
         "y": [
          "100.00%",
          "44.62%",
          "55.38%",
          "28.92%",
          "26.46%",
          "25.22%",
          "21.20%"
         ]
        },
        {
         "base": 1000,
         "measure": [
          "absolute",
          "absolute",
          "absolute",
          "absolute",
          "absolute",
          "absolute",
          "absolute"
         ],
         "text": [
          "100.00%",
          "43.06%",
          "56.94%",
          "26.39%",
          "30.55%",
          "35.22%",
          "29.51%"
         ],
         "textposition": "outside",
         "type": "waterfall",
         "x": [
          [
           "2021",
           "2021",
           "2021",
           "2021",
           "2021",
           "2021",
           "2021",
           "2021"
          ],
          [
           "Revenue",
           "COGS",
           "GrossProfit",
           "OperatingExp",
           "OperatingIncome",
           "PretaxIncome",
           "NetIncome"
          ]
         ],
         "y": [
          "100.00%",
          "43.06%",
          "56.94%",
          "26.39%",
          "30.55%",
          "35.22%",
          "29.51%"
         ]
        },
        {
         "base": 1000,
         "measure": [
          "absolute",
          "absolute",
          "absolute",
          "absolute",
          "absolute",
          "absolute",
          "absolute"
         ],
         "text": [
          "100.00%",
          "46.42%",
          "53.58%",
          "30.99%",
          "22.59%",
          "26.34%",
          "22.06%"
         ],
         "textposition": "outside",
         "type": "waterfall",
         "x": [
          [
           "2020",
           "2020",
           "2020",
           "2020",
           "2020",
           "2020",
           "2020",
           "2020"
          ],
          [
           "Revenue",
           "COGS",
           "GrossProfit",
           "OperatingExp",
           "OperatingIncome",
           "PretaxIncome",
           "NetIncome"
          ]
         ],
         "y": [
          "100.00%",
          "46.42%",
          "53.58%",
          "30.99%",
          "22.59%",
          "26.34%",
          "22.06%"
         ]
        },
        {
         "base": 1000,
         "measure": [
          "absolute",
          "absolute",
          "absolute",
          "absolute",
          "absolute",
          "absolute",
          "absolute"
         ],
         "text": [
          "100.00%",
          "44.42%",
          "55.58%",
          "33.38%",
          "21.15%",
          "24.48%",
          "21.22%"
         ],
         "textposition": "outside",
         "type": "waterfall",
         "x": [
          [
           "2019",
           "2019",
           "2019",
           "2019",
           "2019",
           "2019",
           "2019",
           "2019"
          ],
          [
           "Revenue",
           "COGS",
           "GrossProfit",
           "OperatingExp",
           "OperatingIncome",
           "PretaxIncome",
           "NetIncome"
          ]
         ],
         "y": [
          "100.00%",
          "44.42%",
          "55.58%",
          "33.38%",
          "21.15%",
          "24.48%",
          "21.22%"
         ]
        }
       ],
       "layout": {
        "template": {
         "data": {
          "bar": [
           {
            "error_x": {
             "color": "#2a3f5f"
            },
            "error_y": {
             "color": "#2a3f5f"
            },
            "marker": {
             "line": {
              "color": "#E5ECF6",
              "width": 0.5
             },
             "pattern": {
              "fillmode": "overlay",
              "size": 10,
              "solidity": 0.2
             }
            },
            "type": "bar"
           }
          ],
          "barpolar": [
           {
            "marker": {
             "line": {
              "color": "#E5ECF6",
              "width": 0.5
             },
             "pattern": {
              "fillmode": "overlay",
              "size": 10,
              "solidity": 0.2
             }
            },
            "type": "barpolar"
           }
          ],
          "carpet": [
           {
            "aaxis": {
             "endlinecolor": "#2a3f5f",
             "gridcolor": "white",
             "linecolor": "white",
             "minorgridcolor": "white",
             "startlinecolor": "#2a3f5f"
            },
            "baxis": {
             "endlinecolor": "#2a3f5f",
             "gridcolor": "white",
             "linecolor": "white",
             "minorgridcolor": "white",
             "startlinecolor": "#2a3f5f"
            },
            "type": "carpet"
           }
          ],
          "choropleth": [
           {
            "colorbar": {
             "outlinewidth": 0,
             "ticks": ""
            },
            "type": "choropleth"
           }
          ],
          "contour": [
           {
            "colorbar": {
             "outlinewidth": 0,
             "ticks": ""
            },
            "colorscale": [
             [
              0,
              "#0d0887"
             ],
             [
              0.1111111111111111,
              "#46039f"
             ],
             [
              0.2222222222222222,
              "#7201a8"
             ],
             [
              0.3333333333333333,
              "#9c179e"
             ],
             [
              0.4444444444444444,
              "#bd3786"
             ],
             [
              0.5555555555555556,
              "#d8576b"
             ],
             [
              0.6666666666666666,
              "#ed7953"
             ],
             [
              0.7777777777777778,
              "#fb9f3a"
             ],
             [
              0.8888888888888888,
              "#fdca26"
             ],
             [
              1,
              "#f0f921"
             ]
            ],
            "type": "contour"
           }
          ],
          "contourcarpet": [
           {
            "colorbar": {
             "outlinewidth": 0,
             "ticks": ""
            },
            "type": "contourcarpet"
           }
          ],
          "heatmap": [
           {
            "colorbar": {
             "outlinewidth": 0,
             "ticks": ""
            },
            "colorscale": [
             [
              0,
              "#0d0887"
             ],
             [
              0.1111111111111111,
              "#46039f"
             ],
             [
              0.2222222222222222,
              "#7201a8"
             ],
             [
              0.3333333333333333,
              "#9c179e"
             ],
             [
              0.4444444444444444,
              "#bd3786"
             ],
             [
              0.5555555555555556,
              "#d8576b"
             ],
             [
              0.6666666666666666,
              "#ed7953"
             ],
             [
              0.7777777777777778,
              "#fb9f3a"
             ],
             [
              0.8888888888888888,
              "#fdca26"
             ],
             [
              1,
              "#f0f921"
             ]
            ],
            "type": "heatmap"
           }
          ],
          "heatmapgl": [
           {
            "colorbar": {
             "outlinewidth": 0,
             "ticks": ""
            },
            "colorscale": [
             [
              0,
              "#0d0887"
             ],
             [
              0.1111111111111111,
              "#46039f"
             ],
             [
              0.2222222222222222,
              "#7201a8"
             ],
             [
              0.3333333333333333,
              "#9c179e"
             ],
             [
              0.4444444444444444,
              "#bd3786"
             ],
             [
              0.5555555555555556,
              "#d8576b"
             ],
             [
              0.6666666666666666,
              "#ed7953"
             ],
             [
              0.7777777777777778,
              "#fb9f3a"
             ],
             [
              0.8888888888888888,
              "#fdca26"
             ],
             [
              1,
              "#f0f921"
             ]
            ],
            "type": "heatmapgl"
           }
          ],
          "histogram": [
           {
            "marker": {
             "pattern": {
              "fillmode": "overlay",
              "size": 10,
              "solidity": 0.2
             }
            },
            "type": "histogram"
           }
          ],
          "histogram2d": [
           {
            "colorbar": {
             "outlinewidth": 0,
             "ticks": ""
            },
            "colorscale": [
             [
              0,
              "#0d0887"
             ],
             [
              0.1111111111111111,
              "#46039f"
             ],
             [
              0.2222222222222222,
              "#7201a8"
             ],
             [
              0.3333333333333333,
              "#9c179e"
             ],
             [
              0.4444444444444444,
              "#bd3786"
             ],
             [
              0.5555555555555556,
              "#d8576b"
             ],
             [
              0.6666666666666666,
              "#ed7953"
             ],
             [
              0.7777777777777778,
              "#fb9f3a"
             ],
             [
              0.8888888888888888,
              "#fdca26"
             ],
             [
              1,
              "#f0f921"
             ]
            ],
            "type": "histogram2d"
           }
          ],
          "histogram2dcontour": [
           {
            "colorbar": {
             "outlinewidth": 0,
             "ticks": ""
            },
            "colorscale": [
             [
              0,
              "#0d0887"
             ],
             [
              0.1111111111111111,
              "#46039f"
             ],
             [
              0.2222222222222222,
              "#7201a8"
             ],
             [
              0.3333333333333333,
              "#9c179e"
             ],
             [
              0.4444444444444444,
              "#bd3786"
             ],
             [
              0.5555555555555556,
              "#d8576b"
             ],
             [
              0.6666666666666666,
              "#ed7953"
             ],
             [
              0.7777777777777778,
              "#fb9f3a"
             ],
             [
              0.8888888888888888,
              "#fdca26"
             ],
             [
              1,
              "#f0f921"
             ]
            ],
            "type": "histogram2dcontour"
           }
          ],
          "mesh3d": [
           {
            "colorbar": {
             "outlinewidth": 0,
             "ticks": ""
            },
            "type": "mesh3d"
           }
          ],
          "parcoords": [
           {
            "line": {
             "colorbar": {
              "outlinewidth": 0,
              "ticks": ""
             }
            },
            "type": "parcoords"
           }
          ],
          "pie": [
           {
            "automargin": true,
            "type": "pie"
           }
          ],
          "scatter": [
           {
            "fillpattern": {
             "fillmode": "overlay",
             "size": 10,
             "solidity": 0.2
            },
            "type": "scatter"
           }
          ],
          "scatter3d": [
           {
            "line": {
             "colorbar": {
              "outlinewidth": 0,
              "ticks": ""
             }
            },
            "marker": {
             "colorbar": {
              "outlinewidth": 0,
              "ticks": ""
             }
            },
            "type": "scatter3d"
           }
          ],
          "scattercarpet": [
           {
            "marker": {
             "colorbar": {
              "outlinewidth": 0,
              "ticks": ""
             }
            },
            "type": "scattercarpet"
           }
          ],
          "scattergeo": [
           {
            "marker": {
             "colorbar": {
              "outlinewidth": 0,
              "ticks": ""
             }
            },
            "type": "scattergeo"
           }
          ],
          "scattergl": [
           {
            "marker": {
             "colorbar": {
              "outlinewidth": 0,
              "ticks": ""
             }
            },
            "type": "scattergl"
           }
          ],
          "scattermapbox": [
           {
            "marker": {
             "colorbar": {
              "outlinewidth": 0,
              "ticks": ""
             }
            },
            "type": "scattermapbox"
           }
          ],
          "scatterpolar": [
           {
            "marker": {
             "colorbar": {
              "outlinewidth": 0,
              "ticks": ""
             }
            },
            "type": "scatterpolar"
           }
          ],
          "scatterpolargl": [
           {
            "marker": {
             "colorbar": {
              "outlinewidth": 0,
              "ticks": ""
             }
            },
            "type": "scatterpolargl"
           }
          ],
          "scatterternary": [
           {
            "marker": {
             "colorbar": {
              "outlinewidth": 0,
              "ticks": ""
             }
            },
            "type": "scatterternary"
           }
          ],
          "surface": [
           {
            "colorbar": {
             "outlinewidth": 0,
             "ticks": ""
            },
            "colorscale": [
             [
              0,
              "#0d0887"
             ],
             [
              0.1111111111111111,
              "#46039f"
             ],
             [
              0.2222222222222222,
              "#7201a8"
             ],
             [
              0.3333333333333333,
              "#9c179e"
             ],
             [
              0.4444444444444444,
              "#bd3786"
             ],
             [
              0.5555555555555556,
              "#d8576b"
             ],
             [
              0.6666666666666666,
              "#ed7953"
             ],
             [
              0.7777777777777778,
              "#fb9f3a"
             ],
             [
              0.8888888888888888,
              "#fdca26"
             ],
             [
              1,
              "#f0f921"
             ]
            ],
            "type": "surface"
           }
          ],
          "table": [
           {
            "cells": {
             "fill": {
              "color": "#EBF0F8"
             },
             "line": {
              "color": "white"
             }
            },
            "header": {
             "fill": {
              "color": "#C8D4E3"
             },
             "line": {
              "color": "white"
             }
            },
            "type": "table"
           }
          ]
         },
         "layout": {
          "annotationdefaults": {
           "arrowcolor": "#2a3f5f",
           "arrowhead": 0,
           "arrowwidth": 1
          },
          "autotypenumbers": "strict",
          "coloraxis": {
           "colorbar": {
            "outlinewidth": 0,
            "ticks": ""
           }
          },
          "colorscale": {
           "diverging": [
            [
             0,
             "#8e0152"
            ],
            [
             0.1,
             "#c51b7d"
            ],
            [
             0.2,
             "#de77ae"
            ],
            [
             0.3,
             "#f1b6da"
            ],
            [
             0.4,
             "#fde0ef"
            ],
            [
             0.5,
             "#f7f7f7"
            ],
            [
             0.6,
             "#e6f5d0"
            ],
            [
             0.7,
             "#b8e186"
            ],
            [
             0.8,
             "#7fbc41"
            ],
            [
             0.9,
             "#4d9221"
            ],
            [
             1,
             "#276419"
            ]
           ],
           "sequential": [
            [
             0,
             "#0d0887"
            ],
            [
             0.1111111111111111,
             "#46039f"
            ],
            [
             0.2222222222222222,
             "#7201a8"
            ],
            [
             0.3333333333333333,
             "#9c179e"
            ],
            [
             0.4444444444444444,
             "#bd3786"
            ],
            [
             0.5555555555555556,
             "#d8576b"
            ],
            [
             0.6666666666666666,
             "#ed7953"
            ],
            [
             0.7777777777777778,
             "#fb9f3a"
            ],
            [
             0.8888888888888888,
             "#fdca26"
            ],
            [
             1,
             "#f0f921"
            ]
           ],
           "sequentialminus": [
            [
             0,
             "#0d0887"
            ],
            [
             0.1111111111111111,
             "#46039f"
            ],
            [
             0.2222222222222222,
             "#7201a8"
            ],
            [
             0.3333333333333333,
             "#9c179e"
            ],
            [
             0.4444444444444444,
             "#bd3786"
            ],
            [
             0.5555555555555556,
             "#d8576b"
            ],
            [
             0.6666666666666666,
             "#ed7953"
            ],
            [
             0.7777777777777778,
             "#fb9f3a"
            ],
            [
             0.8888888888888888,
             "#fdca26"
            ],
            [
             1,
             "#f0f921"
            ]
           ]
          },
          "colorway": [
           "#636efa",
           "#EF553B",
           "#00cc96",
           "#ab63fa",
           "#FFA15A",
           "#19d3f3",
           "#FF6692",
           "#B6E880",
           "#FF97FF",
           "#FECB52"
          ],
          "font": {
           "color": "#2a3f5f"
          },
          "geo": {
           "bgcolor": "white",
           "lakecolor": "white",
           "landcolor": "#E5ECF6",
           "showlakes": true,
           "showland": true,
           "subunitcolor": "white"
          },
          "hoverlabel": {
           "align": "left"
          },
          "hovermode": "closest",
          "mapbox": {
           "style": "light"
          },
          "paper_bgcolor": "white",
          "plot_bgcolor": "#E5ECF6",
          "polar": {
           "angularaxis": {
            "gridcolor": "white",
            "linecolor": "white",
            "ticks": ""
           },
           "bgcolor": "#E5ECF6",
           "radialaxis": {
            "gridcolor": "white",
            "linecolor": "white",
            "ticks": ""
           }
          },
          "scene": {
           "xaxis": {
            "backgroundcolor": "#E5ECF6",
            "gridcolor": "white",
            "gridwidth": 2,
            "linecolor": "white",
            "showbackground": true,
            "ticks": "",
            "zerolinecolor": "white"
           },
           "yaxis": {
            "backgroundcolor": "#E5ECF6",
            "gridcolor": "white",
            "gridwidth": 2,
            "linecolor": "white",
            "showbackground": true,
            "ticks": "",
            "zerolinecolor": "white"
           },
           "zaxis": {
            "backgroundcolor": "#E5ECF6",
            "gridcolor": "white",
            "gridwidth": 2,
            "linecolor": "white",
            "showbackground": true,
            "ticks": "",
            "zerolinecolor": "white"
           }
          },
          "shapedefaults": {
           "line": {
            "color": "#2a3f5f"
           }
          },
          "ternary": {
           "aaxis": {
            "gridcolor": "white",
            "linecolor": "white",
            "ticks": ""
           },
           "baxis": {
            "gridcolor": "white",
            "linecolor": "white",
            "ticks": ""
           },
           "bgcolor": "#E5ECF6",
           "caxis": {
            "gridcolor": "white",
            "linecolor": "white",
            "ticks": ""
           }
          },
          "title": {
           "x": 0.05
          },
          "xaxis": {
           "automargin": true,
           "gridcolor": "white",
           "linecolor": "white",
           "ticks": "",
           "title": {
            "standoff": 15
           },
           "zerolinecolor": "white",
           "zerolinewidth": 2
          },
          "yaxis": {
           "automargin": true,
           "gridcolor": "white",
           "linecolor": "white",
           "ticks": "",
           "title": {
            "standoff": 15
           },
           "zerolinecolor": "white",
           "zerolinewidth": 2
          }
         }
        },
        "title": {
         "text": "AMZN P&L ratios for the past 4 years"
        },
        "waterfallgroupgap": 0
       }
      },
      "text/html": [
       "<div>                            <div id=\"d83eddbb-3e31-4b47-a06c-1eb66889ad18\" class=\"plotly-graph-div\" style=\"height:525px; width:100%;\"></div>            <script type=\"text/javascript\">                require([\"plotly\"], function(Plotly) {                    window.PLOTLYENV=window.PLOTLYENV || {};                                    if (document.getElementById(\"d83eddbb-3e31-4b47-a06c-1eb66889ad18\")) {                    Plotly.newPlot(                        \"d83eddbb-3e31-4b47-a06c-1eb66889ad18\",                        [{\"base\":1000,\"measure\":[\"absolute\",\"absolute\",\"absolute\",\"absolute\",\"absolute\",\"absolute\",\"absolute\"],\"text\":[\"100.00%\",\"44.62%\",\"55.38%\",\"28.92%\",\"26.46%\",\"25.22%\",\"21.20%\"],\"textposition\":\"outside\",\"x\":[[\"2022\",\"2022\",\"2022\",\"2022\",\"2022\",\"2022\",\"2022\",\"2022\"],[\"Revenue\",\"COGS\",\"GrossProfit\",\"OperatingExp\",\"OperatingIncome\",\"PretaxIncome\",\"NetIncome\"]],\"y\":[\"100.00%\",\"44.62%\",\"55.38%\",\"28.92%\",\"26.46%\",\"25.22%\",\"21.20%\"],\"type\":\"waterfall\"},{\"base\":1000,\"measure\":[\"absolute\",\"absolute\",\"absolute\",\"absolute\",\"absolute\",\"absolute\",\"absolute\"],\"text\":[\"100.00%\",\"43.06%\",\"56.94%\",\"26.39%\",\"30.55%\",\"35.22%\",\"29.51%\"],\"textposition\":\"outside\",\"x\":[[\"2021\",\"2021\",\"2021\",\"2021\",\"2021\",\"2021\",\"2021\",\"2021\"],[\"Revenue\",\"COGS\",\"GrossProfit\",\"OperatingExp\",\"OperatingIncome\",\"PretaxIncome\",\"NetIncome\"]],\"y\":[\"100.00%\",\"43.06%\",\"56.94%\",\"26.39%\",\"30.55%\",\"35.22%\",\"29.51%\"],\"type\":\"waterfall\"},{\"base\":1000,\"measure\":[\"absolute\",\"absolute\",\"absolute\",\"absolute\",\"absolute\",\"absolute\",\"absolute\"],\"text\":[\"100.00%\",\"46.42%\",\"53.58%\",\"30.99%\",\"22.59%\",\"26.34%\",\"22.06%\"],\"textposition\":\"outside\",\"x\":[[\"2020\",\"2020\",\"2020\",\"2020\",\"2020\",\"2020\",\"2020\",\"2020\"],[\"Revenue\",\"COGS\",\"GrossProfit\",\"OperatingExp\",\"OperatingIncome\",\"PretaxIncome\",\"NetIncome\"]],\"y\":[\"100.00%\",\"46.42%\",\"53.58%\",\"30.99%\",\"22.59%\",\"26.34%\",\"22.06%\"],\"type\":\"waterfall\"},{\"base\":1000,\"measure\":[\"absolute\",\"absolute\",\"absolute\",\"absolute\",\"absolute\",\"absolute\",\"absolute\"],\"text\":[\"100.00%\",\"44.42%\",\"55.58%\",\"33.38%\",\"21.15%\",\"24.48%\",\"21.22%\"],\"textposition\":\"outside\",\"x\":[[\"2019\",\"2019\",\"2019\",\"2019\",\"2019\",\"2019\",\"2019\",\"2019\"],[\"Revenue\",\"COGS\",\"GrossProfit\",\"OperatingExp\",\"OperatingIncome\",\"PretaxIncome\",\"NetIncome\"]],\"y\":[\"100.00%\",\"44.42%\",\"55.58%\",\"33.38%\",\"21.15%\",\"24.48%\",\"21.22%\"],\"type\":\"waterfall\"}],                        {\"template\":{\"data\":{\"histogram2dcontour\":[{\"type\":\"histogram2dcontour\",\"colorbar\":{\"outlinewidth\":0,\"ticks\":\"\"},\"colorscale\":[[0.0,\"#0d0887\"],[0.1111111111111111,\"#46039f\"],[0.2222222222222222,\"#7201a8\"],[0.3333333333333333,\"#9c179e\"],[0.4444444444444444,\"#bd3786\"],[0.5555555555555556,\"#d8576b\"],[0.6666666666666666,\"#ed7953\"],[0.7777777777777778,\"#fb9f3a\"],[0.8888888888888888,\"#fdca26\"],[1.0,\"#f0f921\"]]}],\"choropleth\":[{\"type\":\"choropleth\",\"colorbar\":{\"outlinewidth\":0,\"ticks\":\"\"}}],\"histogram2d\":[{\"type\":\"histogram2d\",\"colorbar\":{\"outlinewidth\":0,\"ticks\":\"\"},\"colorscale\":[[0.0,\"#0d0887\"],[0.1111111111111111,\"#46039f\"],[0.2222222222222222,\"#7201a8\"],[0.3333333333333333,\"#9c179e\"],[0.4444444444444444,\"#bd3786\"],[0.5555555555555556,\"#d8576b\"],[0.6666666666666666,\"#ed7953\"],[0.7777777777777778,\"#fb9f3a\"],[0.8888888888888888,\"#fdca26\"],[1.0,\"#f0f921\"]]}],\"heatmap\":[{\"type\":\"heatmap\",\"colorbar\":{\"outlinewidth\":0,\"ticks\":\"\"},\"colorscale\":[[0.0,\"#0d0887\"],[0.1111111111111111,\"#46039f\"],[0.2222222222222222,\"#7201a8\"],[0.3333333333333333,\"#9c179e\"],[0.4444444444444444,\"#bd3786\"],[0.5555555555555556,\"#d8576b\"],[0.6666666666666666,\"#ed7953\"],[0.7777777777777778,\"#fb9f3a\"],[0.8888888888888888,\"#fdca26\"],[1.0,\"#f0f921\"]]}],\"heatmapgl\":[{\"type\":\"heatmapgl\",\"colorbar\":{\"outlinewidth\":0,\"ticks\":\"\"},\"colorscale\":[[0.0,\"#0d0887\"],[0.1111111111111111,\"#46039f\"],[0.2222222222222222,\"#7201a8\"],[0.3333333333333333,\"#9c179e\"],[0.4444444444444444,\"#bd3786\"],[0.5555555555555556,\"#d8576b\"],[0.6666666666666666,\"#ed7953\"],[0.7777777777777778,\"#fb9f3a\"],[0.8888888888888888,\"#fdca26\"],[1.0,\"#f0f921\"]]}],\"contourcarpet\":[{\"type\":\"contourcarpet\",\"colorbar\":{\"outlinewidth\":0,\"ticks\":\"\"}}],\"contour\":[{\"type\":\"contour\",\"colorbar\":{\"outlinewidth\":0,\"ticks\":\"\"},\"colorscale\":[[0.0,\"#0d0887\"],[0.1111111111111111,\"#46039f\"],[0.2222222222222222,\"#7201a8\"],[0.3333333333333333,\"#9c179e\"],[0.4444444444444444,\"#bd3786\"],[0.5555555555555556,\"#d8576b\"],[0.6666666666666666,\"#ed7953\"],[0.7777777777777778,\"#fb9f3a\"],[0.8888888888888888,\"#fdca26\"],[1.0,\"#f0f921\"]]}],\"surface\":[{\"type\":\"surface\",\"colorbar\":{\"outlinewidth\":0,\"ticks\":\"\"},\"colorscale\":[[0.0,\"#0d0887\"],[0.1111111111111111,\"#46039f\"],[0.2222222222222222,\"#7201a8\"],[0.3333333333333333,\"#9c179e\"],[0.4444444444444444,\"#bd3786\"],[0.5555555555555556,\"#d8576b\"],[0.6666666666666666,\"#ed7953\"],[0.7777777777777778,\"#fb9f3a\"],[0.8888888888888888,\"#fdca26\"],[1.0,\"#f0f921\"]]}],\"mesh3d\":[{\"type\":\"mesh3d\",\"colorbar\":{\"outlinewidth\":0,\"ticks\":\"\"}}],\"scatter\":[{\"fillpattern\":{\"fillmode\":\"overlay\",\"size\":10,\"solidity\":0.2},\"type\":\"scatter\"}],\"parcoords\":[{\"type\":\"parcoords\",\"line\":{\"colorbar\":{\"outlinewidth\":0,\"ticks\":\"\"}}}],\"scatterpolargl\":[{\"type\":\"scatterpolargl\",\"marker\":{\"colorbar\":{\"outlinewidth\":0,\"ticks\":\"\"}}}],\"bar\":[{\"error_x\":{\"color\":\"#2a3f5f\"},\"error_y\":{\"color\":\"#2a3f5f\"},\"marker\":{\"line\":{\"color\":\"#E5ECF6\",\"width\":0.5},\"pattern\":{\"fillmode\":\"overlay\",\"size\":10,\"solidity\":0.2}},\"type\":\"bar\"}],\"scattergeo\":[{\"type\":\"scattergeo\",\"marker\":{\"colorbar\":{\"outlinewidth\":0,\"ticks\":\"\"}}}],\"scatterpolar\":[{\"type\":\"scatterpolar\",\"marker\":{\"colorbar\":{\"outlinewidth\":0,\"ticks\":\"\"}}}],\"histogram\":[{\"marker\":{\"pattern\":{\"fillmode\":\"overlay\",\"size\":10,\"solidity\":0.2}},\"type\":\"histogram\"}],\"scattergl\":[{\"type\":\"scattergl\",\"marker\":{\"colorbar\":{\"outlinewidth\":0,\"ticks\":\"\"}}}],\"scatter3d\":[{\"type\":\"scatter3d\",\"line\":{\"colorbar\":{\"outlinewidth\":0,\"ticks\":\"\"}},\"marker\":{\"colorbar\":{\"outlinewidth\":0,\"ticks\":\"\"}}}],\"scattermapbox\":[{\"type\":\"scattermapbox\",\"marker\":{\"colorbar\":{\"outlinewidth\":0,\"ticks\":\"\"}}}],\"scatterternary\":[{\"type\":\"scatterternary\",\"marker\":{\"colorbar\":{\"outlinewidth\":0,\"ticks\":\"\"}}}],\"scattercarpet\":[{\"type\":\"scattercarpet\",\"marker\":{\"colorbar\":{\"outlinewidth\":0,\"ticks\":\"\"}}}],\"carpet\":[{\"aaxis\":{\"endlinecolor\":\"#2a3f5f\",\"gridcolor\":\"white\",\"linecolor\":\"white\",\"minorgridcolor\":\"white\",\"startlinecolor\":\"#2a3f5f\"},\"baxis\":{\"endlinecolor\":\"#2a3f5f\",\"gridcolor\":\"white\",\"linecolor\":\"white\",\"minorgridcolor\":\"white\",\"startlinecolor\":\"#2a3f5f\"},\"type\":\"carpet\"}],\"table\":[{\"cells\":{\"fill\":{\"color\":\"#EBF0F8\"},\"line\":{\"color\":\"white\"}},\"header\":{\"fill\":{\"color\":\"#C8D4E3\"},\"line\":{\"color\":\"white\"}},\"type\":\"table\"}],\"barpolar\":[{\"marker\":{\"line\":{\"color\":\"#E5ECF6\",\"width\":0.5},\"pattern\":{\"fillmode\":\"overlay\",\"size\":10,\"solidity\":0.2}},\"type\":\"barpolar\"}],\"pie\":[{\"automargin\":true,\"type\":\"pie\"}]},\"layout\":{\"autotypenumbers\":\"strict\",\"colorway\":[\"#636efa\",\"#EF553B\",\"#00cc96\",\"#ab63fa\",\"#FFA15A\",\"#19d3f3\",\"#FF6692\",\"#B6E880\",\"#FF97FF\",\"#FECB52\"],\"font\":{\"color\":\"#2a3f5f\"},\"hovermode\":\"closest\",\"hoverlabel\":{\"align\":\"left\"},\"paper_bgcolor\":\"white\",\"plot_bgcolor\":\"#E5ECF6\",\"polar\":{\"bgcolor\":\"#E5ECF6\",\"angularaxis\":{\"gridcolor\":\"white\",\"linecolor\":\"white\",\"ticks\":\"\"},\"radialaxis\":{\"gridcolor\":\"white\",\"linecolor\":\"white\",\"ticks\":\"\"}},\"ternary\":{\"bgcolor\":\"#E5ECF6\",\"aaxis\":{\"gridcolor\":\"white\",\"linecolor\":\"white\",\"ticks\":\"\"},\"baxis\":{\"gridcolor\":\"white\",\"linecolor\":\"white\",\"ticks\":\"\"},\"caxis\":{\"gridcolor\":\"white\",\"linecolor\":\"white\",\"ticks\":\"\"}},\"coloraxis\":{\"colorbar\":{\"outlinewidth\":0,\"ticks\":\"\"}},\"colorscale\":{\"sequential\":[[0.0,\"#0d0887\"],[0.1111111111111111,\"#46039f\"],[0.2222222222222222,\"#7201a8\"],[0.3333333333333333,\"#9c179e\"],[0.4444444444444444,\"#bd3786\"],[0.5555555555555556,\"#d8576b\"],[0.6666666666666666,\"#ed7953\"],[0.7777777777777778,\"#fb9f3a\"],[0.8888888888888888,\"#fdca26\"],[1.0,\"#f0f921\"]],\"sequentialminus\":[[0.0,\"#0d0887\"],[0.1111111111111111,\"#46039f\"],[0.2222222222222222,\"#7201a8\"],[0.3333333333333333,\"#9c179e\"],[0.4444444444444444,\"#bd3786\"],[0.5555555555555556,\"#d8576b\"],[0.6666666666666666,\"#ed7953\"],[0.7777777777777778,\"#fb9f3a\"],[0.8888888888888888,\"#fdca26\"],[1.0,\"#f0f921\"]],\"diverging\":[[0,\"#8e0152\"],[0.1,\"#c51b7d\"],[0.2,\"#de77ae\"],[0.3,\"#f1b6da\"],[0.4,\"#fde0ef\"],[0.5,\"#f7f7f7\"],[0.6,\"#e6f5d0\"],[0.7,\"#b8e186\"],[0.8,\"#7fbc41\"],[0.9,\"#4d9221\"],[1,\"#276419\"]]},\"xaxis\":{\"gridcolor\":\"white\",\"linecolor\":\"white\",\"ticks\":\"\",\"title\":{\"standoff\":15},\"zerolinecolor\":\"white\",\"automargin\":true,\"zerolinewidth\":2},\"yaxis\":{\"gridcolor\":\"white\",\"linecolor\":\"white\",\"ticks\":\"\",\"title\":{\"standoff\":15},\"zerolinecolor\":\"white\",\"automargin\":true,\"zerolinewidth\":2},\"scene\":{\"xaxis\":{\"backgroundcolor\":\"#E5ECF6\",\"gridcolor\":\"white\",\"linecolor\":\"white\",\"showbackground\":true,\"ticks\":\"\",\"zerolinecolor\":\"white\",\"gridwidth\":2},\"yaxis\":{\"backgroundcolor\":\"#E5ECF6\",\"gridcolor\":\"white\",\"linecolor\":\"white\",\"showbackground\":true,\"ticks\":\"\",\"zerolinecolor\":\"white\",\"gridwidth\":2},\"zaxis\":{\"backgroundcolor\":\"#E5ECF6\",\"gridcolor\":\"white\",\"linecolor\":\"white\",\"showbackground\":true,\"ticks\":\"\",\"zerolinecolor\":\"white\",\"gridwidth\":2}},\"shapedefaults\":{\"line\":{\"color\":\"#2a3f5f\"}},\"annotationdefaults\":{\"arrowcolor\":\"#2a3f5f\",\"arrowhead\":0,\"arrowwidth\":1},\"geo\":{\"bgcolor\":\"white\",\"landcolor\":\"#E5ECF6\",\"subunitcolor\":\"white\",\"showland\":true,\"showlakes\":true,\"lakecolor\":\"white\"},\"title\":{\"x\":0.05},\"mapbox\":{\"style\":\"light\"}}},\"waterfallgroupgap\":0.0,\"title\":{\"text\":\"AMZN P&L ratios for the past 4 years\"}},                        {\"responsive\": true}                    ).then(function(){\n",
       "                            \n",
       "var gd = document.getElementById('d83eddbb-3e31-4b47-a06c-1eb66889ad18');\n",
       "var x = new MutationObserver(function (mutations, observer) {{\n",
       "        var display = window.getComputedStyle(gd).display;\n",
       "        if (!display || display === 'none') {{\n",
       "            console.log([gd, 'removed!']);\n",
       "            Plotly.purge(gd);\n",
       "            observer.disconnect();\n",
       "        }}\n",
       "}});\n",
       "\n",
       "// Listen for the removal of the full notebook cells\n",
       "var notebookContainer = gd.closest('#notebook-container');\n",
       "if (notebookContainer) {{\n",
       "    x.observe(notebookContainer, {childList: true});\n",
       "}}\n",
       "\n",
       "// Listen for the clearing of the current output cell\n",
       "var outputEl = gd.closest('.output');\n",
       "if (outputEl) {{\n",
       "    x.observe(outputEl, {childList: true});\n",
       "}}\n",
       "\n",
       "                        })                };                });            </script>        </div>"
      ]
     },
     "metadata": {},
     "output_type": "display_data"
    }
   ],
   "source": [
    "fig = go.Figure()\n",
    "\n",
    "fig.add_trace(go.Waterfall(\n",
    "    x = [[\"2022\", \"2022\", \"2022\", \"2022\", \"2022\", \"2022\", \"2022\", \"2022\"],\n",
    "        [\"Revenue\", \"COGS\", \"GrossProfit\", \"OperatingExp\", \"OperatingIncome\",\"PretaxIncome\",\"NetIncome\"]],\n",
    "    measure = [\"absolute\", \"absolute\", \"absolute\", \"absolute\", \"absolute\", \"absolute\", \"absolute\"],\n",
    "    textposition = \"outside\",\n",
    "    text = [Rev22, COGS22, GrossProfit22, OperatingExp22, OperatingIncome22, PretaxIncome22, NetIncome22],\n",
    "    y = [Rev22, COGS22, GrossProfit22, OperatingExp22, OperatingIncome22, PretaxIncome22, NetIncome22 ],\n",
    "    base = 1000\n",
    "))\n",
    "\n",
    "\n",
    "fig.add_trace(go.Waterfall(\n",
    "    x = [[\"2021\", \"2021\", \"2021\", \"2021\", \"2021\", \"2021\", \"2021\", \"2021\"],\n",
    "        [\"Revenue\", \"COGS\", \"GrossProfit\", \"OperatingExp\", \"OperatingIncome\",\"PretaxIncome\",\"NetIncome\"]],\n",
    "    measure = [\"absolute\", \"absolute\", \"absolute\", \"absolute\", \"absolute\", \"absolute\", \"absolute\"],\n",
    "    textposition = \"outside\",\n",
    "    text = [Rev21, COGS21, GrossProfit21, OperatingExp21, OperatingIncome21, PretaxIncome21, NetIncome21],\n",
    "    y = [Rev21, COGS21, GrossProfit21, OperatingExp21, OperatingIncome21, PretaxIncome21, NetIncome21],\n",
    "    base = 1000\n",
    "))\n",
    "\n",
    "fig.add_trace(go.Waterfall(\n",
    "    x = [[\"2020\", \"2020\", \"2020\", \"2020\", \"2020\", \"2020\", \"2020\", \"2020\"],\n",
    "        [\"Revenue\", \"COGS\", \"GrossProfit\", \"OperatingExp\", \"OperatingIncome\",\"PretaxIncome\",\"NetIncome\"]],\n",
    "    measure = [\"absolute\", \"absolute\", \"absolute\", \"absolute\", \"absolute\", \"absolute\", \"absolute\"],\n",
    "    textposition = \"outside\",\n",
    "    text = [Rev20, COGS20, GrossProfit20, OperatingExp20, OperatingIncome20, PretaxIncome20, NetIncome20],\n",
    "    y = [Rev20, COGS20, GrossProfit20, OperatingExp20, OperatingIncome20, PretaxIncome20, NetIncome20],\n",
    "    base = 1000\n",
    "))\n",
    "\n",
    "fig.add_trace(go.Waterfall(\n",
    "    x = [[\"2019\", \"2019\", \"2019\", \"2019\", \"2019\", \"2019\", \"2019\", \"2019\"],\n",
    "        [\"Revenue\", \"COGS\", \"GrossProfit\", \"OperatingExp\", \"OperatingIncome\",\"PretaxIncome\",\"NetIncome\"]],\n",
    "    measure = [\"absolute\", \"absolute\", \"absolute\", \"absolute\", \"absolute\", \"absolute\", \"absolute\"],\n",
    "    textposition = \"outside\",\n",
    "    text = [Rev19, COGS19, GrossProfit19, OperatingExp19, OperatingIncome19, PretaxIncome19, NetIncome19],\n",
    "    y = [Rev19, COGS19, GrossProfit19, OperatingExp19, OperatingIncome19, PretaxIncome19, NetIncome19],\n",
    "    base = 1000\n",
    "))\n",
    "\n",
    "\n",
    "fig.update_layout(\n",
    "    waterfallgroupgap = 0.0,\n",
    "        title = 'AMZN P&L ratios for the past 4 years'\n",
    "    \n",
    ")\n",
    "\n",
    "fig.show()"
   ]
  },
  {
   "cell_type": "code",
   "execution_count": null,
   "id": "1d7b3cab",
   "metadata": {},
   "outputs": [],
   "source": []
  }
 ],
 "metadata": {
  "kernelspec": {
   "display_name": "Python 3 (ipykernel)",
   "language": "python",
   "name": "python3"
  },
  "language_info": {
   "codemirror_mode": {
    "name": "ipython",
    "version": 3
   },
   "file_extension": ".py",
   "mimetype": "text/x-python",
   "name": "python",
   "nbconvert_exporter": "python",
   "pygments_lexer": "ipython3",
   "version": "3.9.13"
  }
 },
 "nbformat": 4,
 "nbformat_minor": 5
}
